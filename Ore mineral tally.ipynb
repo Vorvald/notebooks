{
 "cells": [
  {
   "cell_type": "markdown",
   "metadata": {},
   "source": [
    "# VORV ORE TALLY\n",
    "\n",
    "A python tool to evaluate the contents and value of ore loads."
   ]
  },
  {
   "cell_type": "markdown",
   "metadata": {},
   "source": [
    "### Data\n",
    "\n",
    "The next cell holds the detailed breakdown of all ore types and the price of minerals. Do not edit the ore_composition, but keep your mineral_price list in sync with the spreadsheet here: https://docs.google.com/spreadsheets/d/1ffqQ0poRtAWMes_AH7d9NWQ-Rz6W0SCt76YbPXlojOQ"
   ]
  },
  {
   "cell_type": "code",
   "execution_count": 1,
   "metadata": {
    "collapsed": true
   },
   "outputs": [],
   "source": [
    "ore_composition = {\"Veldspar\": [415, 0, 0, 0, 0, 0, 0, 0],\n",
    "                    \"Concentrated Veldspar\": [436, 0, 0, 0, 0, 0, 0, 0],\n",
    "                    \"Dense Veldspar\": [457, 0, 0, 0, 0, 0, 0, 0],\n",
    "                    \"Scordite\":[346, 173, 0, 0, 0, 0, 0, 0],\n",
    "                    \"Condensed Scordite\": [364, 182, 0, 0, 0, 0, 0, 0],\n",
    "                    \"Massive Scordite\": [381, 190, 0, 0, 0, 0, 0, 0],\n",
    "                    \"Pyroxeres\": [351, 25, 50, 0, 5, 0, 0, 0],\n",
    "                    \"Solid Pyroxeres\": [369, 26, 53, 0, 5, 0, 0, 0],\n",
    "                    \"Viscous Pyroxeres\": [387, 27, 55, 0, 5, 0, 0, 0],\n",
    "                    \"Plagioclase\": [107, 213, 107, 0, 0, 0, 0, 0],\n",
    "                    \"Azure Plagioclase\": [113, 224, 113, 0, 0, 0, 0, 0],\n",
    "                    \"Rich Plagioclase\": [118, 235, 118, 0, 0, 0, 0, 0],\n",
    "                    \"Omber\": [800, 100, 0, 85, 0, 0, 0, 0,],\n",
    "                    \"Silvery Omber\": [840, 105, 0, 90, 0, 0, 0, 0],\n",
    "                    \"Golden Omber\": [880, 110, 0, 94, 0, 0, 0, 0],\n",
    "                    \"Kernite\": [134, 0, 267, 134, 0, 0, 0, 0],\n",
    "                    \"Luminous Kernite\": [141, 0, 281, 141, 0, 0, 0, 0],\n",
    "                    \"Fiery Kernite\": [148, 0, 294, 148, 0, 0, 0, 0],\n",
    "                    \"Jaspet\": [0, 0, 350, 0, 75, 8, 0, 0],\n",
    "                    \"Pure Jaspet\": [0, 0, 368, 0, 79, 8, 0, 0],\n",
    "                    \"Pristine Jaspet\": [0, 0, 385, 0, 83, 9, 0, 0],\n",
    "                    \"Hemorphite\": [2200, 0, 0, 100, 120, 15, 0, 0],\n",
    "                    \"Vivid Hemorphite\": [2310, 0, 0, 105, 126, 16, 0, 0],\n",
    "                    \"Radiant Hemorphite\": [2420, 0, 0, 110, 132, 17, 0, 0],\n",
    "                    \"Hedbergite\": [0, 1000, 0, 200, 100, 19, 0, 0],\n",
    "                    \"Vitric Hedbergite\": [0, 1050, 0, 210, 105, 20, 0, 0],\n",
    "                    \"Glazed Hedbergite\": [0, 1100, 0, 220, 110, 21, 0, 0],\n",
    "                    \"Gneiss\": [0, 2200, 2400, 300, 0, 0, 0, 0],\n",
    "                    \"Iridescent Gneiss\": [0, 2310, 2520, 315, 0, 0, 0, 0],\n",
    "                    \"Prismatic Gneiss\": [0, 2420, 2640, 330, 0, 0, 0, 0], \n",
    "                    \"Dark Ochre\": [10000, 0, 0, 1600, 120, 0, 0, 0],\n",
    "                    \"Onyx Ochre\": [10500, 0, 0, 1680, 126, 0, 0, 0],\n",
    "                    \"Obsidian Ochre\": [11000, 0, 0, 1760, 132, 0, 0, 0],\n",
    "                    \"Spodumain\": [56000, 12050, 2100, 450, 0, 0, 0, 0],\n",
    "                    \"Bright Spodumain\": [58800, 12653, 2205, 473, 0, 0, 0, 0],\n",
    "                    \"Gleaming Spodumain\": [61600, 13255, 2310, 495, 0, 0, 0, 0],\n",
    "                    \"Crokite\": [21000, 0, 0, 0, 760, 135, 0, 0],\n",
    "                    \"Sharp Crokite\": [22050, 0, 0, 0, 798, 142, 0, 0],\n",
    "                    \"Crystalline Crokite\": [23100, 0, 0, 0, 836, 149, 0, 0],\n",
    "                    \"Bistot\": [0, 12000, 0, 0, 0, 450, 100, 0],\n",
    "                    \"Triclinic Bistot\": [0, 12600, 0, 0, 0, 473, 105, 0],\n",
    "                    \"Monoclinic Bistot\": [0, 13200, 0, 0, 0, 495, 110, 0],\n",
    "                    \"Arkonor\": [22000, 0, 2500, 0, 0, 0, 320, 0],\n",
    "                    \"Crimson Arkonor\": [23100, 0, 2625, 0, 0, 0, 336, 0],\n",
    "                    \"Prime Arkonor\": [24200, 0, 2750, 0, 0, 0, 352, 0],\n",
    "                    \"Mercoxit\": [0, 0, 0, 0, 0, 0, 0, 300,],\n",
    "                    \"Magma Mercoxit\": [0, 0, 0, 0, 0, 0, 0, 315],\n",
    "                    \"Vitreous Mercoxit\": [0, 0, 0, 0, 0, 0, 0, 330]}\n",
    "\n",
    "mineral_price = [4, 6, 60, 55, 350, 1000, 1100, 8500]"
   ]
  },
  {
   "cell_type": "markdown",
   "metadata": {},
   "source": [
    "When you ctrl-c/ctrl-v from a contract as you would for eve praisal, this is the output. We parse this text to figure out what the traded items are."
   ]
  },
  {
   "cell_type": "code",
   "execution_count": 2,
   "metadata": {
    "collapsed": true
   },
   "outputs": [],
   "source": [
    "sample_text = \"\"\"Arkonor\t6\tArkonor\tAsteroid\t\n",
    "Compressed Arkonor\t86\tArkonor\tAsteroid\t\n",
    "Compressed Crimson Arkonor\t82\tArkonor\tAsteroid\t\n",
    "Compressed Prime Arkonor\t103\tArkonor\tAsteroid\t\n",
    "Crimson Arkonor\t81\tArkonor\tAsteroid\t\n",
    "Prime Arkonor\t36\tArkonor\tAsteroid\t\n",
    "Bistot\t50\tBistot\tAsteroid\t\n",
    "Compressed Bistot\t142\tBistot\tAsteroid\t\n",
    "Compressed Monoclinic Bistot\t42\tBistot\tAsteroid\t\n",
    "Compressed Triclinic Bistot\t27\tBistot\tAsteroid\t\n",
    "Monoclinic Bistot\t73\tBistot\tAsteroid\t\n",
    "Triclinic Bistot\t83\tBistot\tAsteroid\t\n",
    "Compressed Sharp Crokite\t14\tCrokite\tAsteroid\t\n",
    "Sharp Crokite\t65\tCrokite\tAsteroid\t\n",
    "Compressed Dark Ochre\t3\tDark Ochre\tAsteroid\t\n",
    "Compressed Obsidian Ochre\t27\tDark Ochre\tAsteroid\t\n",
    "Compressed Onyx Ochre\t16\tDark Ochre\tAsteroid\t\n",
    "Dark Ochre\t5\tDark Ochre\tAsteroid\t\n",
    "Obsidian Ochre\t12\tDark Ochre\tAsteroid\t\n",
    "Onyx Ochre\t9\tDark Ochre\tAsteroid\t\n",
    "Compressed Gneiss\t89\tGneiss\tAsteroid\t\n",
    "Compressed Iridescent Gneiss\t192\tGneiss\tAsteroid\t\n",
    "Compressed Prismatic Gneiss\t107\tGneiss\tAsteroid\t\n",
    "Gneiss\t93\tGneiss\tAsteroid\t\n",
    "Iridescent Gneiss\t97\tGneiss\tAsteroid\t\n",
    "Prismatic Gneiss\t17\tGneiss\tAsteroid\t\n",
    "Compressed Hedbergite\t7\tHedbergite\tAsteroid\t\n",
    "Compressed Vitric Hedbergite\t40\tHedbergite\tAsteroid\t\n",
    "Hedbergite\t59\tHedbergite\tAsteroid\t\n",
    "Vitric Hedbergite\t33\tHedbergite\tAsteroid\t\n",
    "Compressed Radiant Hemorphite\t36\tHemorphite\tAsteroid\t\n",
    "Compressed Vivid Hemorphite\t21\tHemorphite\tAsteroid\t\n",
    "Radiant Hemorphite\t67\tHemorphite\tAsteroid\t\n",
    "Vivid Hemorphite\t66\tHemorphite\tAsteroid\t\n",
    "Compressed Fiery Kernite\t209\tKernite\tAsteroid\t\n",
    "Compressed Luminous Kernite\t128\tKernite\tAsteroid\t\n",
    "Fiery Kernite\t87\tKernite\tAsteroid\t\n",
    "Luminous Kernite\t40\tKernite\tAsteroid\t\n",
    "Compressed Magma Mercoxit\t18\tMercoxit\tAsteroid\t\n",
    "Compressed Mercoxit\t11\tMercoxit\tAsteroid\t\n",
    "Compressed Vitreous Mercoxit\t50\tMercoxit\tAsteroid\t\n",
    "Magma Mercoxit\t57\tMercoxit\tAsteroid\t\n",
    "Mercoxit\t97\tMercoxit\tAsteroid\t\n",
    "Vitreous Mercoxit\t26\tMercoxit\tAsteroid\t\n",
    "Compressed Golden Omber\t992\tOmber\tAsteroid\t\n",
    "Compressed Omber\t101\tOmber\tAsteroid\t\n",
    "Compressed Silvery Omber\t190\tOmber\tAsteroid\t\n",
    "Golden Omber\t61\tOmber\tAsteroid\t\n",
    "Omber\t79\tOmber\tAsteroid\t\n",
    "Silvery Omber\t21\tOmber\tAsteroid\t\n",
    "Compressed Condensed Scordite\t1 348\tScordite\tAsteroid\t\n",
    "Compressed Massive Scordite\t1 233\tScordite\tAsteroid\t\n",
    "Compressed Scordite\t706\tScordite\tAsteroid\t\n",
    "Massive Scordite\t88\tScordite\tAsteroid\t\n",
    "Scordite\t95\tScordite\tAsteroid\t\n",
    "Compressed Bright Spodumain\t6\tSpodumain\tAsteroid\t\n",
    "Compressed Gleaming Spodumain\t39\tSpodumain\tAsteroid\t\n",
    "Compressed Spodumain\t1\tSpodumain\tAsteroid\t\n",
    "Gleaming Spodumain\t74\tSpodumain\tAsteroid\t\n",
    "Spodumain\t42\tSpodumain\tAsteroid\t\n",
    "Compressed Concentrated Veldspar\t324\tVeldspar\tAsteroid\t\n",
    "Compressed Dense Veldspar\t1 600\tVeldspar\tAsteroid\t\n",
    "Compressed Veldspar\t363\tVeldspar\tAsteroid\t\n",
    "Concentrated Veldspar\t64\tVeldspar\tAsteroid\t\n",
    "Dense Veldspar\t42\tVeldspar\tAsteroid\t\n",
    "Veldspar\t12\tVeldspar\tAsteroid\t\"\"\""
   ]
  },
  {
   "cell_type": "markdown",
   "metadata": {},
   "source": [
    "### Functions\n",
    "\n",
    "The next cells hold a number of functions. These form a fairly straightforward process, accepting the raw text you copy off a contract from EVE to outputting a corp-approved price by converting it to the sum of minerals yielded by reprocessing and multiplying that by the recommended mineral prices."
   ]
  },
  {
   "cell_type": "code",
   "execution_count": 24,
   "metadata": {
    "collapsed": true
   },
   "outputs": [],
   "source": [
    "# Call with the raw text from EVE contract (like eve praisal).\n",
    "# Returns a list of [orename amount] pairs.\n",
    "def textToList(text):\n",
    "    yield from map(lambda line: line.split(\"\\t\")[:2],\n",
    "                   text.splitlines())\n",
    "\n",
    "# Call repeatedly on each item of the list you obtained with textToList().\n",
    "# Returns a list of minerals yielded from reprocessin the [orename amount] at refine_rate\n",
    "def oreToMinerals(oreline, refine_rate=1):\n",
    "    ore_name = oreline[0]\n",
    "    ore_amount = int(oreline[1].replace(\"\\xa0\", \"\"))\n",
    "    if \"Compressed\" in ore_name:\n",
    "        ore_amount = ore_amount * 100\n",
    "        ore_name = ore_name.replace(\"Compressed \", \"\")\n",
    "    ore_comp = ore_composition[ore_name]\n",
    "    return [mineral_yield * ore_amount  * refine_rate / 100 for mineral_yield in ore_comp]\n"
   ]
  },
  {
   "cell_type": "code",
   "execution_count": 51,
   "metadata": {
    "collapsed": true
   },
   "outputs": [],
   "source": [
    "# Sums two lists of minerals (not ores!)\n",
    "# If either of the lists don't have 8 elements (an amount for each mineral, count 'em), we assume they're inappropriate.\n",
    "def addMinerals(Alist, Blist):\n",
    "    if len(Alist) != 8 or len(Blist) != 8:\n",
    "        raise Exception(\"U wot m8\")\n",
    "    return [Alist[i] + Blist[i] for i in range(8)]\n",
    "\n",
    "# Transforms a list of minerals to a list of their respective value\n",
    "def valueMinerals(minList):\n",
    "    return [minList[i] * mineral_price[i] for i in range(8)]\n",
    "\n",
    "# Takes a list of values (from valueMinerals() above) and outputs their sum\n",
    "def sumValue(minValList, bbk_rate=1):\n",
    "    total = 0\n",
    "    for i in minValList:\n",
    "        total += i\n",
    "    return total * bbk_rate"
   ]
  },
  {
   "cell_type": "markdown",
   "metadata": {},
   "source": [
    "### The Magic Button\n",
    "\n",
    "This function here  shows how the above fits together. It is the only one you strictly need to use if you don't wanna mess around with the code. Paste your contracttext in place of what's between the \"\"\"s in new_text, then run `textToPrice(new_text)`"
   ]
  },
  {
   "cell_type": "code",
   "execution_count": 44,
   "metadata": {
    "collapsed": true
   },
   "outputs": [],
   "source": [
    "# Accepts raw text from an ore contract, gives you a grand total price.\n",
    "def textToPrice(raw_text):\n",
    "    ore_list = textToList(raw_text)\n",
    "    sum_minerals = [0, 0, 0, 0, 0, 0, 0, 0]\n",
    "    for ore_minerals in map(lambda ore_line: oreToMinerals(ore_line,refine_rate=0.75), ore_list):\n",
    "        sum_minerals = addMinerals(sum_minerals, ore_minerals)\n",
    "    mineral_values = valueMinerals(sum_minerals)\n",
    "    return sumValue(mineral_values, bbk_rate=0.95)"
   ]
  },
  {
   "cell_type": "code",
   "execution_count": 31,
   "metadata": {},
   "outputs": [
    {
     "data": {
      "text/plain": [
       "484511678.34999996"
      ]
     },
     "execution_count": 31,
     "metadata": {},
     "output_type": "execute_result"
    }
   ],
   "source": [
    "textToPrice(sample_text)"
   ]
  },
  {
   "cell_type": "code",
   "execution_count": 32,
   "metadata": {
    "collapsed": true
   },
   "outputs": [],
   "source": [
    "new_text = \"\"\"Prime Arkonor\t1 403\tArkonor\tAsteroid\t\n",
    "Obsidian Ochre\t646\tDark Ochre\tAsteroid\t\n",
    "Iridescent Gneiss\t153\tGneiss\tAsteroid\t\n",
    "Prismatic Gneiss\t1 071\tGneiss\tAsteroid\t\n",
    "Glazed Hedbergite\t3 659\tHedbergite\tAsteroid\t\n",
    "Hedbergite\t1 854\tHedbergite\tAsteroid\t\n",
    "Vitric Hedbergite\t3 354\tHedbergite\tAsteroid\t\n",
    "Radiant Hemorphite\t831\tHemorphite\tAsteroid\t\n",
    "Jaspet\t6 155\tJaspet\tAsteroid\t\n",
    "Pristine Jaspet\t1 532\tJaspet\tAsteroid\t\n",
    "Pure Jaspet\t1 267\tJaspet\tAsteroid\t\n",
    "Fiery Kernite\t5 422\tKernite\tAsteroid\t\n",
    "Luminous Kernite\t892\tKernite\tAsteroid\t\n",
    "Golden Omber\t1 277\tOmber\tAsteroid\t\n",
    "Silvery Omber\t8 484\tOmber\tAsteroid\t\n",
    "Massive Scordite\t20 441\tScordite\tAsteroid\t\n",
    "Bright Spodumain\t15\tSpodumain\tAsteroid\t\n",
    "Gleaming Spodumain\t38\tSpodumain\tAsteroid\t\n",
    "Concentrated Veldspar\t38 320\tVeldspar\tAsteroid\t\n",
    "Dense Veldspar\t15 429\tVeldspar\tAsteroid\t\"\"\""
   ]
  },
  {
   "cell_type": "code",
   "execution_count": 52,
   "metadata": {},
   "outputs": [
    {
     "data": {
      "text/plain": [
       "3936.5625"
      ]
     },
     "execution_count": 52,
     "metadata": {},
     "output_type": "execute_result"
    }
   ],
   "source": [
    "textToPrice(\"Jaspet\t10\tJaspet\tAsteroid\t\")"
   ]
  },
  {
   "cell_type": "code",
   "execution_count": null,
   "metadata": {
    "collapsed": true
   },
   "outputs": [],
   "source": [
    "textToPrice(new_text)"
   ]
  },
  {
   "cell_type": "code",
   "execution_count": null,
   "metadata": {
    "collapsed": true
   },
   "outputs": [],
   "source": []
  }
 ],
 "metadata": {
  "kernelspec": {
   "display_name": "Python 3",
   "language": "python",
   "name": "python3"
  },
  "language_info": {
   "codemirror_mode": {
    "name": "ipython",
    "version": 3
   },
   "file_extension": ".py",
   "mimetype": "text/x-python",
   "name": "python",
   "nbconvert_exporter": "python",
   "pygments_lexer": "ipython3",
   "version": "3.6.0"
  }
 },
 "nbformat": 4,
 "nbformat_minor": 2
}
